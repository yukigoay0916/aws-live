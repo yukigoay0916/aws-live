{
 "cells": [
  {
   "cell_type": "code",
   "execution_count": null,
   "id": "17712a66",
   "metadata": {},
   "outputs": [],
   "source": [
    "from flask import Flask, render_template, request \n",
    "from datetime import datetime\n",
    "from pymysql import connections\n",
    "from config import *\n",
    "import boto3"
   ]
  },
  {
   "cell_type": "code",
   "execution_count": null,
   "id": "3bf30016",
   "metadata": {},
   "outputs": [],
   "source": [
    "app = Flask(__name__)\n",
    "app.secret_key = \"magiv\" \n"
   ]
  },
  {
   "cell_type": "code",
   "execution_count": null,
   "id": "389c32a5",
   "metadata": {},
   "outputs": [],
   "source": [
    "bucket = custombucket \n",
    "region = customregion \n"
   ]
  },
  {
   "cell_type": "code",
   "execution_count": null,
   "id": "44acc267",
   "metadata": {},
   "outputs": [],
   "source": [
    "db_conn = connections.connection(\n",
    "    host = customhost,\n",
    "    port = 3306, \n",
    "    user = customer, \n",
    "    password = custompass, \n",
    "    db = customdb\n",
    ")"
   ]
  },
  {
   "cell_type": "code",
   "execution_count": null,
   "id": "7c04f0d7",
   "metadata": {},
   "outputs": [],
   "source": [
    "output = {}"
   ]
  },
  {
   "cell_type": "code",
   "execution_count": null,
   "id": "c935428c",
   "metadata": {},
   "outputs": [],
   "source": [
    "table = 'employee'"
   ]
  },
  {
   "cell_type": "markdown",
   "id": "1e84c4f4",
   "metadata": {},
   "source": [
    "### Main Page"
   ]
  },
  {
   "cell_type": "code",
   "execution_count": null,
   "id": "5f189f51",
   "metadata": {},
   "outputs": [],
   "source": [
    "@app.route(\"/\")\n",
    "def home():\n",
    "    return render_template(\"add.html\", date = datetime.now())"
   ]
  },
  {
   "cell_type": "markdown",
   "id": "7881d4bd",
   "metadata": {},
   "source": [
    "### Add Employee"
   ]
  },
  {
   "cell_type": "code",
   "execution_count": null,
   "id": "01168438",
   "metadata": {},
   "outputs": [],
   "source": [
    "@app.route(\"/addemp/\", methods=['GET', 'POST'])\n",
    "def addEmp():\n",
    "    return render_template(\"add.html\", date = datetime.now())"
   ]
  },
  {
   "cell_type": "code",
   "execution_count": null,
   "id": "9fb4c85b",
   "metadata": {},
   "outputs": [],
   "source": [
    "Employee Output"
   ]
  },
  {
   "cell_type": "code",
   "execution_count": null,
   "id": "fc1b8c4b",
   "metadata": {},
   "outputs": [],
   "source": [
    "@app.route(\"/emp/\", methods=['POST'])\n",
    "def Emp():\n",
    "    emp_id = request.form['emp_id']\n",
    "    first_name = request.form['first_name']\n",
    "    last_name = request.form['last_name']\n",
    "    education = request.form['education']\n",
    "    location = request.form['location']\n",
    "    emp_image_file = request.form['emp_image_file'] \n",
    "    \n",
    "    check_in = ''\n",
    "    insert_sql = \"INSERT INTO employee VALUES (%d, %s, %s, %s, %s, %s)\"\n",
    "    emp_id =\"SELECT COUNT(emp_id) form employee\"\n",
    "    cursor = db_conn.cursor()\n",
    "    \n",
    "    if emp_image_file.filename == \"\":\n",
    "        return \"Please select a file\"\n",
    "    \n",
    "    try:\n",
    "        cursor.execute(insert_sql, (emp_id+1, first_name, last_name, education, location, check_in))\n",
    "        db_conn.commit()\n",
    "        emp_name = \"\" + first_name +\" \" + last_name\n",
    "        \n",
    "        # Upload image file to S3 \n",
    "        emp_image_file_name_in_s3 = \"emp-id-\" + str(emp_id) + \"_image_file\"\n",
    "        s3 = boto3.resource('s3')\n",
    "        \n",
    "        try:\n",
    "            print(\"Data inserted in MySQL RDS... uploading image to S3... \")\n",
    "            s3.Bucket(custombucket).put_object(Key = emp_image_file_name_in_s3, Body = emp_image_file)\n",
    "            bucket_location = boto3.client('S3').get_bucket_location(Bucket=customBucket) \n",
    "            s3_location = (bucket_location['LocationConstraint'])\n",
    "            \n",
    "            if s3_location is None:\n",
    "                s3_location = ''\n",
    "                \n",
    "            else: \n",
    "                s3_location = '-' + s3_location \n",
    "                \n",
    "            object_url = \"https://s3{0}.amazonaws.com/{1}/{2}\".format(s3_location, custombucket, emp_image_file_name_in_s3)\n",
    "            \n",
    "        except Exception as e:\n",
    "            return str(e)\n",
    "    \n",
    "    finally:\n",
    "        cursor.close()\n",
    "        \n",
    "    print(\"all modification done... \")\n",
    "    return render_template('edit.html', name = emp_name)"
   ]
  },
  {
   "cell_type": "markdown",
   "id": "bcfe9796",
   "metadata": {},
   "source": [
    "### Attendance "
   ]
  },
  {
   "cell_type": "code",
   "execution_count": null,
   "id": "bf1cad53",
   "metadata": {},
   "outputs": [],
   "source": [
    "@app.route(\"/attendance/\")\n",
    "def attendance():\n",
    "    return render_template(\"Attendance.html\", date = datetime.now())"
   ]
  },
  {
   "cell_type": "markdown",
   "id": "1092acde",
   "metadata": {},
   "source": [
    "### Check in button"
   ]
  },
  {
   "cell_type": "code",
   "execution_count": null,
   "id": "ffb0a754",
   "metadata": {},
   "outputs": [],
   "source": [
    "@app.route(\"/attendance/checkIn\", methods=['GET', 'POST'])\n",
    "def checkIn():\n",
    "    emp_id = request.form['emp_id']\n",
    "    \n",
    "    #UPDATE Statement \n",
    "    update_statement = \"UPDATE employee SET check_in =(%(check_in)s) WHERE emp_id = %(emp_id)s\"\n",
    "    \n",
    "    cursor = db_conn.cursor()\n",
    "    \n",
    "    LoginTime = datetime.now()\n",
    "    formatted_login = LoginTime.strftime('%Y-%m-%d %H:%M:%S')\n",
    "    print (\"Check in time:{}\", formatted_login)\n",
    "    \n",
    "    try:\n",
    "        cursor.execute(update_statement, { 'check_in': formatted_login, 'emp_id':int(emp_id)})\n",
    "        dn_conn.commit()\n",
    "        print(\" Data Updated into MySQL\")\n",
    "        \n",
    "    except Exception as e:\n",
    "        return str(e)\n",
    "    \n",
    "    finally:\n",
    "        cursor.close() \n",
    "        \n",
    "    return render_template('AttendanceOutput.html', date = datetime.now(), LoginTime = formatted_login)"
   ]
  },
  {
   "cell_type": "markdown",
   "id": "7f9b406b",
   "metadata": {},
   "source": [
    "### Check Out Button "
   ]
  },
  {
   "cell_type": "code",
   "execution_count": null,
   "id": "19a5f49d",
   "metadata": {},
   "outputs": [],
   "source": [
    "@app.route(\"/attendance/checkOut\", methods=['GET', 'POST'])\n",
    "def checkOut():\n",
    "    emp_id = request.form['emp_id']\n",
    "    \n",
    "    #UPDATE Statement \n",
    "    select_statement = \"SELECT check_in FROM employee WHERE emp_id = %(emp_id)s\"\n",
    "    insert_statement = \"INSERT INTO attendance VALUES (%s, %s, %s, %s)\"\n",
    "    \n",
    "    cursor = db_conn.cursor()\n",
    "    \n",
    "    try:\n",
    "        cursor.execute(select_statement, {'emp_id':int(emp_id)})\n",
    "        LoginTime = cursor.fetchall()\n",
    "        \n",
    "        for row in LoginTime:\n",
    "            formatted_login = row \n",
    "            print(formatted_login[0])\n",
    "            \n",
    "        CheckOutTime = datetime.now()\n",
    "        LoginDate = datetime.strptime(formatted_login[0], '%Y-%m-%d %H:%M:%S')\n",
    "        \n",
    "        formatted_checkOut = CheckOutTime.strftime('%Y-%m-%d %H:%M:%S')\n",
    "        total_working_hours = CheckOutTime - LoginDate\n",
    "        print(total_working_hours)\n",
    "        \n",
    "        try:\n",
    "            cursor.execute(insert_statement, (emp_id, formatted_login[0], formatted_checkOut, total_working_hours))\n",
    "            dn_conn.commit()\n",
    "            print(\" Data Updated into MySQL\")\n",
    "            \n",
    "        except Exception as e:\n",
    "        return str(e)\n",
    "        \n",
    "    except Exception as e:\n",
    "        return str(e)\n",
    "    \n",
    "    finally:\n",
    "        cursor.close() \n",
    "        \n",
    "    return render_template('AttendanceOutput.html', date = datetime.now(), checkOut = formatted_checkOut, \n",
    "                           LoginTime = formatted_login[0], totalWorkingHours = total_working_hours)"
   ]
  },
  {
   "cell_type": "markdown",
   "id": "b4b4f0ee",
   "metadata": {},
   "source": [
    "### Get Employee Done"
   ]
  },
  {
   "cell_type": "code",
   "execution_count": null,
   "id": "0c43deff",
   "metadata": {},
   "outputs": [],
   "source": [
    "@app.route(\"/getemp/\")\n",
    "def getEmp():\n",
    "    return render_template(\"GetEmp.html\", date = datetime.now()) \n",
    "\n",
    "\n",
    "#Get Employee Results\n",
    "@app.route(\"/getemp/results\", methods = ['GET', 'POST'])\n",
    "def Employee():\n",
    "    emp_id = request.form['emp_id']\n",
    "    select_statement = \"SELECT * FROM employee WHERE emp_id = %(emp_id)s\"\n",
    "    \n",
    "    cursor = db_conn.cursor()\n",
    "    \n",
    "    try:\n",
    "        cursor.execute(select_statement, {'emp_id':int(emp_id)})\n",
    "        for result in cursor: \n",
    "            print(result)\n",
    "            \n",
    "    except Exception as e:\n",
    "        return str(e)\n",
    "    \n",
    "    finally:\n",
    "        cursor.close() \n",
    "        \n",
    "    return render_template(\"GetEmpOutput.html\", result = result, date = datetime.now())\n"
   ]
  },
  {
   "cell_type": "markdown",
   "id": "065a811f",
   "metadata": {},
   "source": [
    "### Payroll Calculator"
   ]
  },
  {
   "cell_type": "code",
   "execution_count": null,
   "id": "ce6fd9fc",
   "metadata": {},
   "outputs": [],
   "source": [
    "@app.route(\"/payroll/\", methods = ['GET', 'POST']) \n",
    "def payroll(): \n",
    "    return render_template('Payroll.html', date = datetime.now())\n",
    "\n",
    "@app.route(\"/payroll/results\", methods = ['GET', 'POST']) \n",
    "def cal_Payroll():\n",
    "    select_statement = \"SELECT total_working_hours FROM attendance WHERE emp_id = %(emp_id)s\" \n",
    "    cursor = db_conn.cursor()\n",
    "    \n",
    "    if 'emp_id' in request.form and 'basic' in request.form and 'days' in request.form: \n",
    "        emp_id = int(request.form.get('emp_id'))\n",
    "        basic_salary = int(request.form.get('basic'))\n",
    "        workday_per_week = int(request.form.get('days'))\n",
    "        \n",
    "        #Get employee working hours + OT time\n",
    "        try: \n",
    "            cursor.execute(select_statement, {'emp_id': emp_id})\n",
    "            WorkHour = cursor.fetchall() \n",
    "            Final = 0 \n",
    "            \n",
    "            for row in WorkHour:\n",
    "                Hour = row[0] \n",
    "                NewHour = datetime.strptime(Hour, '%H:%M:%S.%f') \n",
    "                \n",
    "                total_seconds = Newhour.second + Newhour.minute*60 + Newhour.hour*60*60 \n",
    "                Final += total_seconds\n",
    "                Final = Final/3600 \n",
    "                working_hour = round(Final, 2) \n",
    "                print (working_hour) \n",
    "                \n",
    "        except Exception as e:\n",
    "            return str(e)\n",
    "        \n",
    "        \n",
    "        pay = round((basic_salary * workday_per_week * working_hour), 2) \n",
    "        annual = float(pay) * 12 \n",
    "        annual = int(annual) \n",
    "        \n",
    "        Bonus = annual * 0.1 \n",
    "        \n",
    "    else: \n",
    "        print(\"Something Missing\") \n",
    "        return render_template('Payroll.html', date = datetime.now())\n",
    "    \n",
    "    return render_template('PayrollOutput.html', date = datetime.now(), emp_id = emp_id, MonthlySalary = pay, \n",
    "                          AnnualSalary = annual, WorkingHours = working_hour, Bonus = Bonus) \n",
    "\n",
    "if __name__ == \"__main__\":\n",
    "    app.run(host = '0.0.0.0', port = 80, debug = True) "
   ]
  }
 ],
 "metadata": {
  "kernelspec": {
   "display_name": "Python 3 (ipykernel)",
   "language": "python",
   "name": "python3"
  },
  "language_info": {
   "codemirror_mode": {
    "name": "ipython",
    "version": 3
   },
   "file_extension": ".py",
   "mimetype": "text/x-python",
   "name": "python",
   "nbconvert_exporter": "python",
   "pygments_lexer": "ipython3",
   "version": "3.9.7"
  }
 },
 "nbformat": 4,
 "nbformat_minor": 5
}
